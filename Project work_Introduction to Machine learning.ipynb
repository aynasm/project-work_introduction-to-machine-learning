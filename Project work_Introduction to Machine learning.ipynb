{
 "cells": [
  {
   "cell_type": "markdown",
   "metadata": {},
   "source": [
    "# Рекомендация тарифов"
   ]
  },
  {
   "cell_type": "markdown",
   "metadata": {},
   "source": [
    "В вашем распоряжении данные о поведении клиентов, которые уже перешли на эти тарифы (из проекта курса «Статистический анализ данных»). Нужно построить модель для задачи классификации, которая выберет подходящий тариф. Предобработка данных не понадобится — вы её уже сделали.\n",
    "\n",
    "Постройте модель с максимально большим значением *accuracy*. Чтобы сдать проект успешно, нужно довести долю правильных ответов по крайней мере до 0.75. Проверьте *accuracy* на тестовой выборке самостоятельно."
   ]
  },
  {
   "cell_type": "markdown",
   "metadata": {},
   "source": [
    "## Откройте и изучите файл"
   ]
  },
  {
   "cell_type": "code",
   "execution_count": 1,
   "metadata": {},
   "outputs": [],
   "source": [
    "#Импортируем библиотеки.\n",
    "import pandas as pd\n",
    "from sklearn.model_selection import train_test_split\n",
    "from sklearn.tree import DecisionTreeClassifier\n",
    "from sklearn.ensemble import RandomForestClassifier\n",
    "from sklearn.linear_model import LogisticRegression \n",
    "from sklearn.metrics import accuracy_score\n",
    "from sklearn.dummy import DummyClassifier"
   ]
  },
  {
   "cell_type": "code",
   "execution_count": 2,
   "metadata": {},
   "outputs": [],
   "source": [
    "#Считываем данные из csv-файла в датафрейм\n",
    "try:\n",
    "    data = pd.read_csv('/datasets/users_behavior.csv')\n",
    "except:\n",
    "    data = pd.read_csv('https://code.s3.yandex.net/datasets/users_behavior.csv')"
   ]
  },
  {
   "cell_type": "code",
   "execution_count": 3,
   "metadata": {},
   "outputs": [
    {
     "name": "stdout",
     "output_type": "stream",
     "text": [
      "------------- Первые 5 строк ------------\n"
     ]
    },
    {
     "data": {
      "text/html": [
       "<div>\n",
       "<style scoped>\n",
       "    .dataframe tbody tr th:only-of-type {\n",
       "        vertical-align: middle;\n",
       "    }\n",
       "\n",
       "    .dataframe tbody tr th {\n",
       "        vertical-align: top;\n",
       "    }\n",
       "\n",
       "    .dataframe thead th {\n",
       "        text-align: right;\n",
       "    }\n",
       "</style>\n",
       "<table border=\"1\" class=\"dataframe\">\n",
       "  <thead>\n",
       "    <tr style=\"text-align: right;\">\n",
       "      <th></th>\n",
       "      <th>calls</th>\n",
       "      <th>minutes</th>\n",
       "      <th>messages</th>\n",
       "      <th>mb_used</th>\n",
       "      <th>is_ultra</th>\n",
       "    </tr>\n",
       "  </thead>\n",
       "  <tbody>\n",
       "    <tr>\n",
       "      <th>0</th>\n",
       "      <td>40.0</td>\n",
       "      <td>311.90</td>\n",
       "      <td>83.0</td>\n",
       "      <td>19915.42</td>\n",
       "      <td>0</td>\n",
       "    </tr>\n",
       "    <tr>\n",
       "      <th>1</th>\n",
       "      <td>85.0</td>\n",
       "      <td>516.75</td>\n",
       "      <td>56.0</td>\n",
       "      <td>22696.96</td>\n",
       "      <td>0</td>\n",
       "    </tr>\n",
       "    <tr>\n",
       "      <th>2</th>\n",
       "      <td>77.0</td>\n",
       "      <td>467.66</td>\n",
       "      <td>86.0</td>\n",
       "      <td>21060.45</td>\n",
       "      <td>0</td>\n",
       "    </tr>\n",
       "    <tr>\n",
       "      <th>3</th>\n",
       "      <td>106.0</td>\n",
       "      <td>745.53</td>\n",
       "      <td>81.0</td>\n",
       "      <td>8437.39</td>\n",
       "      <td>1</td>\n",
       "    </tr>\n",
       "    <tr>\n",
       "      <th>4</th>\n",
       "      <td>66.0</td>\n",
       "      <td>418.74</td>\n",
       "      <td>1.0</td>\n",
       "      <td>14502.75</td>\n",
       "      <td>0</td>\n",
       "    </tr>\n",
       "  </tbody>\n",
       "</table>\n",
       "</div>"
      ],
      "text/plain": [
       "   calls  minutes  messages   mb_used  is_ultra\n",
       "0   40.0   311.90      83.0  19915.42         0\n",
       "1   85.0   516.75      56.0  22696.96         0\n",
       "2   77.0   467.66      86.0  21060.45         0\n",
       "3  106.0   745.53      81.0   8437.39         1\n",
       "4   66.0   418.74       1.0  14502.75         0"
      ]
     },
     "metadata": {},
     "output_type": "display_data"
    },
    {
     "name": "stdout",
     "output_type": "stream",
     "text": [
      "\n",
      "\n",
      "------------- Типы данных ------------\n",
      "<class 'pandas.core.frame.DataFrame'>\n",
      "RangeIndex: 3214 entries, 0 to 3213\n",
      "Data columns (total 5 columns):\n",
      " #   Column    Non-Null Count  Dtype  \n",
      "---  ------    --------------  -----  \n",
      " 0   calls     3214 non-null   float64\n",
      " 1   minutes   3214 non-null   float64\n",
      " 2   messages  3214 non-null   float64\n",
      " 3   mb_used   3214 non-null   float64\n",
      " 4   is_ultra  3214 non-null   int64  \n",
      "dtypes: float64(4), int64(1)\n",
      "memory usage: 125.7 KB\n",
      "None\n",
      "\n",
      "\n",
      "------------- Пропуски ------------\n",
      "calls Пропусков НЕТ\n",
      "minutes Пропусков НЕТ\n",
      "messages Пропусков НЕТ\n",
      "mb_used Пропусков НЕТ\n",
      "is_ultra Пропусков НЕТ\n",
      "\n",
      "\n",
      "------------- Дубликаты ------------\n",
      "Дубликатов НЕТ\n"
     ]
    }
   ],
   "source": [
    "#Функция получения первичной информации о датафрейме\n",
    "def studying_the_data (data):\n",
    "    print ('------------- Первые 5 строк ------------')\n",
    "    display(data.head())\n",
    "    print('')\n",
    "    print('')\n",
    "    print ('------------- Типы данных ------------')\n",
    "    print (data.info())\n",
    "    print('')\n",
    "    print('')\n",
    "    print ('------------- Пропуски ------------')\n",
    "    count = 0\n",
    "    for element in data.columns:\n",
    "        if data[element].isna().sum() > 0: \n",
    "            print(element, ' - ', data[element].isna().sum(), 'пропусков')\n",
    "            count = +1\n",
    "        if count == 0:\n",
    "            print(element, 'Пропусков НЕТ')\n",
    "    print('')\n",
    "    print('')\n",
    "    print ('------------- Дубликаты ------------')\n",
    "    if data.duplicated().sum() > 0:\n",
    "        print('Дубликатов: ', data.duplicated().sum())\n",
    "    else:\n",
    "        print('Дубликатов НЕТ')\n",
    "\n",
    "studying_the_data (data)"
   ]
  },
  {
   "cell_type": "markdown",
   "metadata": {},
   "source": [
    "## Разбейте данные на выборки"
   ]
  },
  {
   "cell_type": "code",
   "execution_count": 4,
   "metadata": {},
   "outputs": [
    {
     "name": "stdout",
     "output_type": "stream",
     "text": [
      "(1929, 4)\n",
      "(1929,)\n",
      "(643, 4)\n",
      "(643,)\n",
      "(642, 4)\n",
      "(642,)\n"
     ]
    }
   ],
   "source": [
    "#Разделите исходные данные на обучающую, валидационную и тестовую выборки.\n",
    "\n",
    "#Отделим 60% данных для обучающей выборки\n",
    "data_tmp, data_train = train_test_split(data, test_size=0.60, random_state=12345)\n",
    "\n",
    "#Разделим оставшуюся часть исходных данных на валидную и тестовую\n",
    "data_test, data_valid = train_test_split(data_tmp, test_size=0.50, random_state=12345)\n",
    "\n",
    "#Создадим переменные для признаков и целевого признака\n",
    "features_train = data_train.drop(['is_ultra'], axis=1)\n",
    "target_train = data_train['is_ultra']\n",
    "\n",
    "features_valid = data_valid.drop(['is_ultra'], axis=1)\n",
    "target_valid = data_valid['is_ultra']\n",
    "\n",
    "features_test = data_test.drop(['is_ultra'], axis=1)\n",
    "target_test = data_test['is_ultra']\n",
    "\n",
    "print(features_train.shape)\n",
    "print(target_train.shape)\n",
    "print(features_valid.shape)\n",
    "print(target_valid.shape)\n",
    "print(features_test.shape)\n",
    "print(target_test.shape)"
   ]
  },
  {
   "cell_type": "markdown",
   "metadata": {},
   "source": [
    "## Исследуйте модели"
   ]
  },
  {
   "cell_type": "code",
   "execution_count": 5,
   "metadata": {},
   "outputs": [
    {
     "name": "stdout",
     "output_type": "stream",
     "text": [
      "Accuracy наилучшей модели на валидационной выборке: 0.7900466562986003\n"
     ]
    }
   ],
   "source": [
    "#Построим модель решающего дерева\n",
    "best_model = None\n",
    "best_result = 0\n",
    "for depth in range(1, 6):\n",
    "\tmodel_tree = DecisionTreeClassifier(random_state=12345, max_depth=depth) # обучим модель с заданной глубиной дерева\n",
    "\tmodel_tree.fit(features_train, target_train) # обучим модель вызовом метода fit()\n",
    "\tpredictions = model_tree.predict(features_valid) # получим предсказания модели\n",
    "\tresult = accuracy_score(target_valid, predictions) # посчитайте качество модели\n",
    "\tif result > best_result:\n",
    "\t\tbest_model = model_tree\n",
    "\t\tbest_result = result\n",
    "print(\"Accuracy наилучшей модели на валидационной выборке:\", best_result)        "
   ]
  },
  {
   "cell_type": "code",
   "execution_count": 6,
   "metadata": {},
   "outputs": [
    {
     "name": "stdout",
     "output_type": "stream",
     "text": [
      "Accuracy наилучшей модели на валидационной выборке: 0.7853810264385692\n"
     ]
    }
   ],
   "source": [
    "#Построим модель случайного леса\n",
    "best_model = None\n",
    "best_result = 0\n",
    "for est in range(1, 11):\n",
    "    model = RandomForestClassifier(random_state=12345, n_estimators=est) # обучим модель с заданным количеством деревьев\n",
    "    model.fit(features_train, target_train) # обучим модель на тренировочной выборке\n",
    "    result = model.score(features_valid, target_valid) # посчитаем качество модели на валидационной выборке\n",
    "    if result > best_result:\n",
    "        best_model = model # сохраним наилучшую модель\n",
    "        best_result = result #  сохраним наилучшее значение метрики accuracy на валидационных данных\n",
    "\n",
    "print(\"Accuracy наилучшей модели на валидационной выборке:\", best_result)"
   ]
  },
  {
   "cell_type": "code",
   "execution_count": 7,
   "metadata": {},
   "outputs": [
    {
     "name": "stdout",
     "output_type": "stream",
     "text": [
      "0.7511664074650077\n"
     ]
    }
   ],
   "source": [
    "#Построим модель логистической регрессии\n",
    "model = LogisticRegression(random_state=12345, solver='lbfgs', max_iter=1000)\n",
    "model.fit(features_train, target_train) \n",
    "print(model.score(features_train, target_train))"
   ]
  },
  {
   "cell_type": "markdown",
   "metadata": {},
   "source": [
    "Самый лучший результать получили при модели решающего дерева, доля правильных ответов 79%."
   ]
  },
  {
   "cell_type": "markdown",
   "metadata": {},
   "source": [
    "## Проверьте модель на тестовой выборке"
   ]
  },
  {
   "cell_type": "code",
   "execution_count": 8,
   "metadata": {},
   "outputs": [
    {
     "name": "stdout",
     "output_type": "stream",
     "text": [
      "0.7710280373831776\n"
     ]
    }
   ],
   "source": [
    "predictions = model_tree.predict(features_test)\n",
    "result = accuracy_score(target_test, predictions)\n",
    "print(result)"
   ]
  },
  {
   "cell_type": "markdown",
   "metadata": {},
   "source": [
    "77% - немного хуже, чем на валидной выборке."
   ]
  },
  {
   "cell_type": "markdown",
   "metadata": {},
   "source": [
    "## (бонус) Проверьте модели на адекватность"
   ]
  },
  {
   "cell_type": "code",
   "execution_count": 9,
   "metadata": {},
   "outputs": [
    {
     "name": "stdout",
     "output_type": "stream",
     "text": [
      "0.7081389320891653\n"
     ]
    }
   ],
   "source": [
    "model = DummyClassifier().fit(features_train, target_train)\n",
    "print(model.score(features_train, target_train))"
   ]
  },
  {
   "cell_type": "markdown",
   "metadata": {},
   "source": [
    "## Чек-лист готовности проекта"
   ]
  },
  {
   "cell_type": "markdown",
   "metadata": {},
   "source": [
    "Поставьте 'x' в выполненных пунктах. Далее нажмите Shift+Enter."
   ]
  },
  {
   "cell_type": "markdown",
   "metadata": {},
   "source": [
    "- [x] Jupyter Notebook открыт\n",
    "- [x] Весь код исполняется без ошибок\n",
    "- [x] Ячейки с кодом расположены в порядке исполнения\n",
    "- [x] Выполнено задание 1: данные загружены и изучены\n",
    "- [x] Выполнено задание 2: данные разбиты на три выборки\n",
    "- [x] Выполнено задание 3: проведено исследование моделей\n",
    "    - [x] Рассмотрено больше одной модели\n",
    "    - [x] Рассмотрено хотя бы 3 значения гипепараметров для какой-нибудь модели\n",
    "    - [x] Написаны выводы по результатам исследования\n",
    "- [x] Выполнено задание 3: Проведено тестирование\n",
    "- [x] Удалось достичь accuracy не меньше 0.75\n"
   ]
  },
  {
   "cell_type": "markdown",
   "metadata": {},
   "source": [
    "# Вывод\n",
    "\n",
    "Мы построили 3 модели: решающее дерево, случайный лес, логистическая регрессия. Получили максимально высокое качество предсказания перебирая в алгоритме обучения разные значения гиперпараметров. Самый лучший результать получили при модели решающего дерева, доля правильных ответов 79%. Проверили модель на тестовой выборке и получили хороший результат - 77%.\n",
    "\n",
    "Тем самым мы построили модель для задачи классификации, которая выберет подходящий тариф."
   ]
  }
 ],
 "metadata": {
  "ExecuteTimeLog": [
   {
    "duration": 398,
    "start_time": "2023-02-21T06:08:43.941Z"
   },
   {
    "duration": 145,
    "start_time": "2023-02-21T06:11:28.321Z"
   },
   {
    "duration": 21,
    "start_time": "2023-02-21T06:11:52.213Z"
   },
   {
    "duration": 18,
    "start_time": "2023-02-21T06:13:36.320Z"
   },
   {
    "duration": 60,
    "start_time": "2023-02-21T07:19:35.311Z"
   },
   {
    "duration": 56,
    "start_time": "2023-02-21T07:20:04.690Z"
   },
   {
    "duration": 324,
    "start_time": "2023-02-21T07:21:04.788Z"
   },
   {
    "duration": 54,
    "start_time": "2023-02-21T07:22:26.822Z"
   },
   {
    "duration": 56,
    "start_time": "2023-02-21T07:22:37.445Z"
   },
   {
    "duration": 24,
    "start_time": "2023-02-21T07:22:43.998Z"
   },
   {
    "duration": 32,
    "start_time": "2023-02-21T07:32:14.462Z"
   },
   {
    "duration": 24,
    "start_time": "2023-02-21T07:32:44.195Z"
   },
   {
    "duration": 30,
    "start_time": "2023-02-21T07:33:39.562Z"
   },
   {
    "duration": 75,
    "start_time": "2023-02-21T12:12:25.909Z"
   },
   {
    "duration": 891,
    "start_time": "2023-02-21T12:12:51.599Z"
   },
   {
    "duration": 126,
    "start_time": "2023-02-21T12:12:53.005Z"
   },
   {
    "duration": 31,
    "start_time": "2023-02-21T12:12:56.630Z"
   },
   {
    "duration": 12,
    "start_time": "2023-02-21T12:13:01.503Z"
   },
   {
    "duration": 12,
    "start_time": "2023-02-21T12:13:52.206Z"
   },
   {
    "duration": 58,
    "start_time": "2023-02-21T13:51:30.593Z"
   },
   {
    "duration": 274,
    "start_time": "2023-02-21T13:52:59.228Z"
   },
   {
    "duration": 3,
    "start_time": "2023-02-21T15:22:06.526Z"
   },
   {
    "duration": 1030,
    "start_time": "2023-02-21T20:16:14.299Z"
   },
   {
    "duration": 118,
    "start_time": "2023-02-21T20:16:15.331Z"
   },
   {
    "duration": 29,
    "start_time": "2023-02-21T20:16:15.450Z"
   },
   {
    "duration": 9,
    "start_time": "2023-02-21T20:16:15.481Z"
   },
   {
    "duration": 116,
    "start_time": "2023-02-21T20:16:15.492Z"
   },
   {
    "duration": 0,
    "start_time": "2023-02-21T20:16:15.610Z"
   },
   {
    "duration": 13,
    "start_time": "2023-02-21T20:16:58.749Z"
   },
   {
    "duration": 2,
    "start_time": "2023-02-21T20:17:39.757Z"
   },
   {
    "duration": 31,
    "start_time": "2023-02-21T20:17:44.577Z"
   },
   {
    "duration": 228,
    "start_time": "2023-02-21T20:19:08.734Z"
   },
   {
    "duration": 3,
    "start_time": "2023-02-21T20:20:48.491Z"
   },
   {
    "duration": 38,
    "start_time": "2023-02-21T20:22:56.865Z"
   },
   {
    "duration": 33,
    "start_time": "2023-02-21T20:23:09.047Z"
   },
   {
    "duration": 30,
    "start_time": "2023-02-21T20:23:29.547Z"
   },
   {
    "duration": 29,
    "start_time": "2023-02-21T20:26:59.157Z"
   },
   {
    "duration": 6,
    "start_time": "2023-02-21T20:33:30.841Z"
   },
   {
    "duration": 7,
    "start_time": "2023-02-21T20:33:42.609Z"
   },
   {
    "duration": 28,
    "start_time": "2023-02-21T20:42:01.619Z"
   },
   {
    "duration": 5,
    "start_time": "2023-02-21T20:42:14.855Z"
   },
   {
    "duration": 1111,
    "start_time": "2023-02-21T21:09:51.719Z"
   },
   {
    "duration": 29,
    "start_time": "2023-02-21T21:09:52.832Z"
   },
   {
    "duration": 45,
    "start_time": "2023-02-21T21:09:52.863Z"
   },
   {
    "duration": 11,
    "start_time": "2023-02-21T21:09:52.910Z"
   },
   {
    "duration": 43,
    "start_time": "2023-02-21T21:09:52.922Z"
   },
   {
    "duration": 276,
    "start_time": "2023-02-21T21:09:52.966Z"
   },
   {
    "duration": 35,
    "start_time": "2023-02-21T21:09:53.243Z"
   },
   {
    "duration": 6,
    "start_time": "2023-02-21T21:09:53.279Z"
   },
   {
    "duration": 1818,
    "start_time": "2023-02-21T21:26:20.640Z"
   },
   {
    "duration": 27,
    "start_time": "2023-02-21T21:26:22.460Z"
   },
   {
    "duration": 37,
    "start_time": "2023-02-21T21:26:22.489Z"
   },
   {
    "duration": 13,
    "start_time": "2023-02-21T21:26:22.528Z"
   },
   {
    "duration": 56,
    "start_time": "2023-02-21T21:26:22.543Z"
   },
   {
    "duration": 281,
    "start_time": "2023-02-21T21:26:22.601Z"
   },
   {
    "duration": 41,
    "start_time": "2023-02-21T21:26:22.884Z"
   },
   {
    "duration": 6,
    "start_time": "2023-02-21T21:26:22.926Z"
   },
   {
    "duration": 1062,
    "start_time": "2023-02-22T05:53:46.080Z"
   },
   {
    "duration": 103,
    "start_time": "2023-02-22T05:56:46.070Z"
   },
   {
    "duration": 1032,
    "start_time": "2023-02-22T05:56:56.468Z"
   },
   {
    "duration": 64,
    "start_time": "2023-02-22T05:56:57.502Z"
   },
   {
    "duration": 31,
    "start_time": "2023-02-22T05:56:57.568Z"
   },
   {
    "duration": 11,
    "start_time": "2023-02-22T05:56:57.601Z"
   },
   {
    "duration": 32,
    "start_time": "2023-02-22T05:56:57.613Z"
   },
   {
    "duration": 254,
    "start_time": "2023-02-22T05:56:57.647Z"
   },
   {
    "duration": 48,
    "start_time": "2023-02-22T05:56:57.902Z"
   },
   {
    "duration": 6,
    "start_time": "2023-02-22T05:56:57.951Z"
   },
   {
    "duration": 5,
    "start_time": "2023-02-22T05:56:57.958Z"
   }
  ],
  "kernelspec": {
   "display_name": "Python 3 (ipykernel)",
   "language": "python",
   "name": "python3"
  },
  "language_info": {
   "codemirror_mode": {
    "name": "ipython",
    "version": 3
   },
   "file_extension": ".py",
   "mimetype": "text/x-python",
   "name": "python",
   "nbconvert_exporter": "python",
   "pygments_lexer": "ipython3",
   "version": "3.13.5"
  },
  "toc": {
   "base_numbering": 1,
   "nav_menu": {},
   "number_sections": true,
   "sideBar": true,
   "skip_h1_title": true,
   "title_cell": "Table of Contents",
   "title_sidebar": "Contents",
   "toc_cell": false,
   "toc_position": {},
   "toc_section_display": true,
   "toc_window_display": true
  }
 },
 "nbformat": 4,
 "nbformat_minor": 4
}
